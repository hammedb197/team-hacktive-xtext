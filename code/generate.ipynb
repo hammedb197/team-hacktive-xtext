{
 "cells": [
  {
   "cell_type": "code",
   "execution_count": 60,
   "metadata": {},
   "outputs": [],
   "source": [
    "import pandas as pd\n",
    "import random\n",
    "import numpy as np"
   ]
  },
  {
   "cell_type": "code",
   "execution_count": 76,
   "metadata": {},
   "outputs": [],
   "source": [
    "def generate():\n",
    "    flag = np.round(np.random.uniform(0, high=1, size=284807), 2)\n",
    "    flag_history = np.round(np.random.uniform(0, high=1, size=284807), 2)\n",
    "    oversea_spending = random.choices(['Yes', 'No'], [8, 3], k=284807)\n",
    "    transaction_channel= random.choices(['Bank', 'Third party'], [8, 5], k=284807)\n",
    "    transaction_type = random.choices(['Credit', 'Debit'], [10, 7], k=284807)\n",
    "    amount = np.round(np.random.uniform(100, high=1000000, size=284807), 2)\n",
    "    \n",
    "    return amount, flag_history, oversea_spending, transaction_channel, transaction_type, flag"
   ]
  },
  {
   "cell_type": "code",
   "execution_count": 77,
   "metadata": {},
   "outputs": [],
   "source": [
    "amount, flag_history, oversea_spending, transaction_channel, transaction_type, flag = generate()"
   ]
  },
  {
   "cell_type": "code",
   "execution_count": 78,
   "metadata": {},
   "outputs": [],
   "source": [
    "save = pd.DataFrame({'amount':amount, 'flag_history':flag_history, 'oversea_spending':oversea_spending, 'transaction_channel':transaction_channel, 'transaction_type':transaction_type, 'flag':flag})"
   ]
  },
  {
   "cell_type": "code",
   "execution_count": 79,
   "metadata": {},
   "outputs": [
    {
     "data": {
      "text/html": [
       "<div>\n",
       "<style scoped>\n",
       "    .dataframe tbody tr th:only-of-type {\n",
       "        vertical-align: middle;\n",
       "    }\n",
       "\n",
       "    .dataframe tbody tr th {\n",
       "        vertical-align: top;\n",
       "    }\n",
       "\n",
       "    .dataframe thead th {\n",
       "        text-align: right;\n",
       "    }\n",
       "</style>\n",
       "<table border=\"1\" class=\"dataframe\">\n",
       "  <thead>\n",
       "    <tr style=\"text-align: right;\">\n",
       "      <th></th>\n",
       "      <th>amount</th>\n",
       "      <th>flag_history</th>\n",
       "      <th>oversea_spending</th>\n",
       "      <th>transaction_channel</th>\n",
       "      <th>transaction_type</th>\n",
       "      <th>flag</th>\n",
       "    </tr>\n",
       "  </thead>\n",
       "  <tbody>\n",
       "    <tr>\n",
       "      <th>0</th>\n",
       "      <td>831174.90</td>\n",
       "      <td>0.78</td>\n",
       "      <td>Yes</td>\n",
       "      <td>Third party</td>\n",
       "      <td>Credit</td>\n",
       "      <td>0.52</td>\n",
       "    </tr>\n",
       "    <tr>\n",
       "      <th>1</th>\n",
       "      <td>183515.51</td>\n",
       "      <td>0.33</td>\n",
       "      <td>Yes</td>\n",
       "      <td>Bank</td>\n",
       "      <td>Debit</td>\n",
       "      <td>0.45</td>\n",
       "    </tr>\n",
       "    <tr>\n",
       "      <th>2</th>\n",
       "      <td>787127.62</td>\n",
       "      <td>0.47</td>\n",
       "      <td>Yes</td>\n",
       "      <td>Third party</td>\n",
       "      <td>Credit</td>\n",
       "      <td>0.29</td>\n",
       "    </tr>\n",
       "    <tr>\n",
       "      <th>3</th>\n",
       "      <td>194157.48</td>\n",
       "      <td>0.89</td>\n",
       "      <td>Yes</td>\n",
       "      <td>Bank</td>\n",
       "      <td>Debit</td>\n",
       "      <td>0.62</td>\n",
       "    </tr>\n",
       "    <tr>\n",
       "      <th>4</th>\n",
       "      <td>798524.94</td>\n",
       "      <td>0.15</td>\n",
       "      <td>Yes</td>\n",
       "      <td>Third party</td>\n",
       "      <td>Credit</td>\n",
       "      <td>0.81</td>\n",
       "    </tr>\n",
       "  </tbody>\n",
       "</table>\n",
       "</div>"
      ],
      "text/plain": [
       "      amount  flag_history oversea_spending transaction_channel  \\\n",
       "0  831174.90          0.78              Yes         Third party   \n",
       "1  183515.51          0.33              Yes                Bank   \n",
       "2  787127.62          0.47              Yes         Third party   \n",
       "3  194157.48          0.89              Yes                Bank   \n",
       "4  798524.94          0.15              Yes         Third party   \n",
       "\n",
       "  transaction_type  flag  \n",
       "0           Credit  0.52  \n",
       "1            Debit  0.45  \n",
       "2           Credit  0.29  \n",
       "3            Debit  0.62  \n",
       "4           Credit  0.81  "
      ]
     },
     "execution_count": 79,
     "metadata": {},
     "output_type": "execute_result"
    }
   ],
   "source": [
    "save.head()"
   ]
  },
  {
   "cell_type": "code",
   "execution_count": 67,
   "metadata": {},
   "outputs": [],
   "source": [
    "save.to_csv('../data/train.csv', index=False)"
   ]
  },
  {
   "cell_type": "code",
   "execution_count": 73,
   "metadata": {},
   "outputs": [],
   "source": []
  },
  {
   "cell_type": "code",
   "execution_count": null,
   "metadata": {},
   "outputs": [],
   "source": []
  },
  {
   "cell_type": "code",
   "execution_count": null,
   "metadata": {},
   "outputs": [],
   "source": []
  }
 ],
 "metadata": {
  "kernelspec": {
   "display_name": "Python 3",
   "language": "python",
   "name": "python3"
  },
  "language_info": {
   "codemirror_mode": {
    "name": "ipython",
    "version": 3
   },
   "file_extension": ".py",
   "mimetype": "text/x-python",
   "name": "python",
   "nbconvert_exporter": "python",
   "pygments_lexer": "ipython3",
   "version": "3.6.5"
  }
 },
 "nbformat": 4,
 "nbformat_minor": 2
}
